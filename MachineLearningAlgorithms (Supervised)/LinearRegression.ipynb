{
 "cells": [
  {
   "cell_type": "markdown",
   "metadata": {},
   "source": [
    "# Machine Learning (Supervised) - Linear Regression"
   ]
  },
  {
   "cell_type": "code",
   "execution_count": 21,
   "metadata": {},
   "outputs": [],
   "source": [
    "# Importing necessary libraries\n",
    "import pandas as pd\n",
    "import numpy as np\n",
    "import seaborn as sns\n",
    "import matplotlib.pyplot as plt\n",
    "from sklearn.model_selection import train_test_split\n",
    "from sklearn.impute import SimpleImputer\n",
    "from sklearn.preprocessing import StandardScaler, PolynomialFeatures\n",
    "from sklearn.linear_model import (LinearRegression, Ridge, Lasso, ElasticNet, Lars, LassoLars,\n",
    "                                  OrthogonalMatchingPursuit, BayesianRidge, ARDRegression,\n",
    "                                  HuberRegressor, RANSACRegressor, TheilSenRegressor)\n",
    "from sklearn.metrics import mean_squared_error, r2_score\n",
    "from sklearn.pipeline import make_pipeline\n",
    "from sklearn.impute import SimpleImputer\n",
    "from sklearn.model_selection import train_test_split\n",
    "from sklearn.linear_model import LinearRegression, Ridge, Lasso, ElasticNet\n",
    "from sklearn.metrics import mean_squared_error, r2_score\n",
    "from sklearn.preprocessing import StandardScaler, PolynomialFeatures\n",
    "\n",
    "# Importing the dataset\n",
    "data_frame = pd.read_csv(\"C:\\\\Users\\\\david\\\\OneDrive\\\\Documents\\\\GitHub\\\\Projects\\\\StatisticalAnalysis\\\\Billionaires Statistics Dataset.csv\")\n",
    "data_frame.head()\n",
    "\n",
    "# Filtering the dataset\n",
    "data_frame = data_frame[['finalWorth', 'category', 'age', 'country', 'industries']]\n"
   ]
  },
  {
   "cell_type": "markdown",
   "metadata": {},
   "source": [
    "Preprocessing Data for Machine Learning Options\n",
    "1) Remove rows with missing values\n",
    "2) Impute missing values with mean or other statistical method. Analyze significance of imputation.\n",
    "3) Predictive Imputation - Use a model to predict missing values\n",
    "4) Using a model that supports missing values\n",
    "   1) Linear Regression requires no missing values"
   ]
  },
  {
   "cell_type": "code",
   "execution_count": null,
   "metadata": {},
   "outputs": [],
   "source": [
    "# Data Preprocessing\n",
    "# Convert categorical variables using one-hot encoding\n",
    "data_frame = pd.get_dummies(data_frame, columns=['category', 'country', 'industries'])\n",
    "\n",
    "# Feature Scaling\n",
    "scaler = StandardScaler()\n",
    "data_frame[['age', 'finalWorth']] = scaler.fit_transform(data_frame[['age', 'finalWorth']])\n",
    "\n",
    "data_frame.head()\n"
   ]
  },
  {
   "cell_type": "code",
   "execution_count": 18,
   "metadata": {},
   "outputs": [],
   "source": [
    "# Feature Selection and Train-Test Split\n",
    "\n",
    "# Selecting the target variable and the features\n",
    "X = data_frame.drop('finalWorth', axis=1)  # Features/INdependent variables\n",
    "y = data_frame['finalWorth']  # Target variable/dependent variables\n",
    "\n",
    "# Use mean imputation\n",
    "imputer = SimpleImputer(strategy='mean')\n",
    "X = imputer.fit_transform(X)\n",
    "\n",
    "# Split the data into training and testing sets\n",
    "X_train, X_test, y_train, y_test = train_test_split(X, y, test_size=0.2, random_state=42)\n",
    "\n",
    "# Model Training and Evaluation\n",
    "def train_and_evaluate(model, X_train, X_test, y_train, y_test):\n",
    "    model.fit(X_train, y_train)\n",
    "    y_pred = model.predict(X_test)\n",
    "    mse = mean_squared_error(y_test, y_pred)\n",
    "    r2 = r2_score(y_test, y_pred)\n",
    "    print(f'Model: {model.__class__.__name__}')\n",
    "    print(f'Mean Squared Error: {mse}')\n",
    "    print(f'R-squared: {r2}')\n",
    "    print('\\n')\n",
    "\n"
   ]
  },
  {
   "cell_type": "code",
   "execution_count": null,
   "metadata": {},
   "outputs": [],
   "source": [
    "# List of models\n",
    "models = [\n",
    "    LinearRegression(),\n",
    "    Ridge(),\n",
    "    Lasso(),\n",
    "    ElasticNet(),\n",
    "    Lars(),\n",
    "    LassoLars(),\n",
    "    OrthogonalMatchingPursuit(),\n",
    "    BayesianRidge(),\n",
    "    ARDRegression(),\n",
    "    HuberRegressor(),\n",
    "    RANSACRegressor(),\n",
    "    TheilSenRegressor(),\n",
    "    make_pipeline(PolynomialFeatures(degree=2), LinearRegression())\n",
    "]\n",
    "\n",
    "# Train and evaluate all models\n",
    "for model in models:\n",
    "    train_and_evaluate(model, X_train, X_test, y_train, y_test)"
   ]
  },
  {
   "cell_type": "code",
   "execution_count": null,
   "metadata": {},
   "outputs": [],
   "source": [
    "# Visualizing the results for a specific model (e.g., OLS)\n",
    "model = LinearRegression()\n",
    "model.fit(X_train, y_train)\n",
    "y_pred = model.predict(X_test)\n",
    "\n",
    "plt.scatter(y_test, y_pred)\n",
    "plt.xlabel('Actual Values')\n",
    "plt.ylabel('Predicted Values')\n",
    "plt.title('Actual vs Predicted')\n",
    "plt.show()"
   ]
  }
 ],
 "metadata": {
  "kernelspec": {
   "display_name": "PythonConda",
   "language": "python",
   "name": "python3"
  },
  "language_info": {
   "codemirror_mode": {
    "name": "ipython",
    "version": 3
   },
   "file_extension": ".py",
   "mimetype": "text/x-python",
   "name": "python",
   "nbconvert_exporter": "python",
   "pygments_lexer": "ipython3",
   "version": "3.11.5"
  }
 },
 "nbformat": 4,
 "nbformat_minor": 2
}
