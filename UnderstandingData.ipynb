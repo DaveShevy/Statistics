{
 "cells": [
  {
   "cell_type": "code",
   "execution_count": null,
   "metadata": {},
   "outputs": [],
   "source": [
    "import pandas as pd\n"
   ]
  },
  {
   "cell_type": "code",
   "execution_count": null,
   "metadata": {},
   "outputs": [],
   "source": [
    "def remove_duplicates(df):\n",
    "    # Count the number of rows before removing duplicates\n",
    "    original_row_count = len(df)\n",
    "\n",
    "    # Remove duplicate rows\n",
    "    df.drop_duplicates(inplace=True)\n",
    "\n",
    "    # Count the number of rows after removing duplicates\n",
    "    cleaned_row_count = len(df)\n",
    "\n",
    "    # Calculate and print the number of rows removed\n",
    "    rows_removed = original_row_count - cleaned_row_count\n",
    "    print(f\"Removed {rows_removed} duplicate rows.\")\n",
    "\n",
    "    return df"
   ]
  },
  {
   "cell_type": "code",
   "execution_count": null,
   "metadata": {},
   "outputs": [],
   "source": [
    "# Load Dataframe\n",
    "data_frame = pd.read_csv(\"C:\\\\Users\\\\david\\\\OneDrive\\\\Documents\\\\GitHub\\\\Projects\\\\Billionaires Statistics Dataset.csv\")\n",
    "\n",
    "data_frame = remove_duplicates(data_frame)\n",
    "\n",
    "# Generate a table that has the column name and its data type\n",
    "column_data_types = pd.DataFrame({\n",
    "    'Column_Name': data_frame.columns,\n",
    "    'Data_Type': [data_frame[col].dtype for col in data_frame.columns]\n",
    "})\n",
    "\n",
    "column_data_types\n"
   ]
  },
  {
   "cell_type": "code",
   "execution_count": null,
   "metadata": {},
   "outputs": [],
   "source": [
    "# AI/Machine Learning Model that Explains the Columns"
   ]
  },
  {
   "cell_type": "code",
   "execution_count": null,
   "metadata": {},
   "outputs": [],
   "source": [
    "# Launch_Data Wranger\n",
    "data_frame.head(5)\n"
   ]
  }
 ],
 "metadata": {
  "kernelspec": {
   "display_name": "PythonConda",
   "language": "python",
   "name": "python3"
  },
  "language_info": {
   "codemirror_mode": {
    "name": "ipython",
    "version": 3
   },
   "file_extension": ".py",
   "mimetype": "text/x-python",
   "name": "python",
   "nbconvert_exporter": "python",
   "pygments_lexer": "ipython3",
   "version": "3.11.3"
  }
 },
 "nbformat": 4,
 "nbformat_minor": 2
}
